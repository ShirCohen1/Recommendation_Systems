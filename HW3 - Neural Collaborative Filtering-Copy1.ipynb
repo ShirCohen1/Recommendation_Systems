{
 "cells": [
  {
   "cell_type": "markdown",
   "metadata": {
    "id": "dVvR04bERqp0"
   },
   "source": [
    "# Recommendations Systems\n",
    "## Assignment 3:  Neural Collaborative Filtering"
   ]
  },
  {
   "cell_type": "markdown",
   "metadata": {
    "id": "pAq2A3YoRqp6"
   },
   "source": [
    "**The goal of this assignment is to:**\n",
    "- Understand the concept of recommendations based on implicit data which is very common in real life.\n",
    "- Understand how DL components can be used to implement a collaborative filtering & hybrid approach recommenders.\n",
    "- Understand pros&cons comparing to other recommender system approaches.\n",
    "- Practice recommender system training and evaluation.\n",
    "\n",
    "**Instructions:**\n",
    "- Students will form teams of two people each, and submit a single homework for each team.\n",
    "- The same score for the homework will be given to each member of the team.\n",
    "- Your solution in the form of an Jupyter notebook file (with extension ipynb).\n",
    "- Images/Graphs/Tables should be submitted inside the notebook.\n",
    "- The notebook should be runnable and properly documented. \n",
    "- Please answer all the questions and include all your code.\n",
    "- English only.\n",
    "\n",
    "**Submission:**\n",
    "- Submission of the homework will be done via Moodle by uploading a Jupyter notbook.\n",
    "- The homwork needs to be entirely in English.\n",
    "- The deadline for submission is on Moodle.\n",
    "\n",
    "**Requirements:**  \n",
    "- Python 3.6 should be used. \n",
    "- You may use Torch/Keras/TF packeges.\n",
    "- You should implement the recommender system by yourself using only basic Python libraries (such as numpy)."
   ]
  },
  {
   "cell_type": "markdown",
   "metadata": {
    "id": "e-gEOFMNRqp8"
   },
   "source": [
    "**LINKS:**\n",
    "- <a href='https://github.com/hexiangnan/neural_collaborative_filtering/tree/master/Data'>Dataset</a>\n",
    "- <a href='https://github.com/hexiangnan/neural_collaborative_filtering'>Repository</a>\n",
    "- <a href='https://towardsdatascience.com/paper-review-neural-collaborative-filtering-explanation-implementation-ea3e031b7f96'>Blog Post Review</a>\n",
    "<br>"
   ]
  },
  {
   "cell_type": "markdown",
   "metadata": {
    "id": "odx17uenRqp-"
   },
   "source": [
    "**Google <a href='https://colab.research.google.com/'>Colaboratory</a>**  \n",
    "        \n",
    "    This is a great academic tool for students. Instead of installing and running \"everything\" on your Laptop - which probably will take you a lot of time - you can use Google Colab.  \n",
    "    Basically, you can use it for all your Python needs.  \n",
    "\n",
    "**PyTorch <a href='https://pytorch.org/tutorials/beginner/basics/intro.html'>Tutorials</a>**   \n",
    "    \n",
    "    Just follow steps 0-7 and you will have the basics skills to understand, build, and run DL recommender models. \n",
    "\n",
    "**Keras Kaggle's <a href='https://www.kaggle.com/learn/intro-to-deep-learning'>intro-to-deep-learning</a>**  \n",
    "    \n",
    "    This will give you a quick idea of what DL is, and how to utilize it.  \n",
    "    They're using TensorFlow, while in our MLDL program we're using PyTorch.  \n",
    "\n",
    "\n"
   ]
  },
  {
   "cell_type": "markdown",
   "metadata": {
    "id": "WDEB4eOdRqp_"
   },
   "source": [
    "**Grading:**\n",
    "\n",
    "- Q1 - 20 points - Dataset Preparation\n",
    "- Q2 - 50 points - Neural Collaborative Filtering\n",
    "- Q3 - 30 points - Loss Function\n",
    "\n",
    "`Total: 100`\n",
    "\n",
    "<br><br><br>"
   ]
  },
  {
   "cell_type": "markdown",
   "metadata": {
    "id": "5n56Wyb0RqqA"
   },
   "source": [
    "**Prerequisites**"
   ]
  },
  {
   "cell_type": "code",
   "execution_count": null,
   "metadata": {
    "id": "glkFYzVDRqqB"
   },
   "outputs": [],
   "source": [
    "#!pip install --quiet"
   ]
  },
  {
   "cell_type": "code",
   "execution_count": null,
   "metadata": {
    "colab": {
     "base_uri": "https://localhost:8080/"
    },
    "id": "CoEYPG9T1euH",
    "outputId": "22ee9afb-b575-41a6-d9ca-c3a5f2137de1"
   },
   "outputs": [
    {
     "name": "stdout",
     "output_type": "stream",
     "text": [
      "Sun Jan  9 09:29:59 2022       \n",
      "+-----------------------------------------------------------------------------+\n",
      "| NVIDIA-SMI 495.44       Driver Version: 460.32.03    CUDA Version: 11.2     |\n",
      "|-------------------------------+----------------------+----------------------+\n",
      "| GPU  Name        Persistence-M| Bus-Id        Disp.A | Volatile Uncorr. ECC |\n",
      "| Fan  Temp  Perf  Pwr:Usage/Cap|         Memory-Usage | GPU-Util  Compute M. |\n",
      "|                               |                      |               MIG M. |\n",
      "|===============================+======================+======================|\n",
      "|   0  Tesla P100-PCIE...  Off  | 00000000:00:04.0 Off |                    0 |\n",
      "| N/A   46C    P0    30W / 250W |      0MiB / 16280MiB |      0%      Default |\n",
      "|                               |                      |                  N/A |\n",
      "+-------------------------------+----------------------+----------------------+\n",
      "                                                                               \n",
      "+-----------------------------------------------------------------------------+\n",
      "| Processes:                                                                  |\n",
      "|  GPU   GI   CI        PID   Type   Process name                  GPU Memory |\n",
      "|        ID   ID                                                   Usage      |\n",
      "|=============================================================================|\n",
      "|  No running processes found                                                 |\n",
      "+-----------------------------------------------------------------------------+\n"
     ]
    }
   ],
   "source": [
    "gpu_info = !nvidia-smi\n",
    "gpu_info = '\\n'.join(gpu_info)\n",
    "if gpu_info.find('failed') >= 0:\n",
    "  print('Not connected to a GPU')\n",
    "else:\n",
    "  print(gpu_info)"
   ]
  },
  {
   "cell_type": "code",
   "execution_count": null,
   "metadata": {
    "colab": {
     "base_uri": "https://localhost:8080/"
    },
    "id": "c-ZkYINk1o7w",
    "outputId": "9ef7e919-1120-4d81-e6d3-7f48266ade7d"
   },
   "outputs": [
    {
     "name": "stdout",
     "output_type": "stream",
     "text": [
      "Your runtime has 27.3 gigabytes of available RAM\n",
      "\n",
      "You are using a high-RAM runtime!\n"
     ]
    }
   ],
   "source": [
    "from psutil import virtual_memory\n",
    "ram_gb = virtual_memory().total / 1e9\n",
    "print('Your runtime has {:.1f} gigabytes of available RAM\\n'.format(ram_gb))\n",
    "\n",
    "if ram_gb < 20:\n",
    "  print('Not using a high-RAM runtime')\n",
    "else:\n",
    "  print('You are using a high-RAM runtime!')"
   ]
  },
  {
   "cell_type": "markdown",
   "metadata": {
    "id": "XTq2Hj6pRqqD"
   },
   "source": [
    "**Imports**"
   ]
  },
  {
   "cell_type": "code",
   "execution_count": null,
   "metadata": {
    "id": "q_ZmxlztRqqF"
   },
   "outputs": [],
   "source": [
    "# basic\n",
    "import os \n",
    "import sys\n",
    "import math\n",
    "import heapq\n",
    "import argparse\n",
    "from time import time\n",
    "import multiprocessing\n",
    "\n",
    "# general\n",
    "import warnings\n",
    "import numpy as np\n",
    "import scipy as sp\n",
    "import pandas as pd\n",
    "import scipy.sparse as sp\n",
    "\n",
    "# visual\n",
    "import matplotlib\n",
    "import seaborn as sns\n",
    "import matplotlib.pyplot as plt\n",
    "\n",
    "# visual 3D\n",
    "from mpl_toolkits import mplot3d\n",
    "\n",
    "# notebook\n",
    "from IPython.display import display, HTML\n",
    "\n",
    "\n",
    "# torch\n",
    "import torch\n",
    "from torch import nn\n",
    "import torch.nn.functional as F\n",
    "from torch.nn import Sequential\n",
    "from torch.nn import Sigmoid,ReLU\n",
    "from torch.nn import Embedding,Linear,Dropout\n",
    "from torch.utils.data import DataLoader, Dataset\n",
    "from torchvision.transforms import ToTensor,Compose\n",
    "from torch.optim import SparseAdam,Adam,Adagrad,SGD\n",
    "\n",
    "# Keras\n",
    "import tensorflow\n",
    "from tensorflow import keras\n",
    "from tensorflow.keras.models import Model\n",
    "from tensorflow.keras import initializers\n",
    "from tensorflow.keras.regularizers import l2 \n",
    "from tensorflow.keras.initializers import RandomNormal\n",
    "from tensorflow.keras.layers import Dense,Lambda,Activation\n",
    "from tensorflow.keras.optimizers import Adam,SGD,RMSprop,Adamax\n",
    "from tensorflow.keras.models import Sequential,Model,load_model,save_model\n",
    "from tensorflow.keras.callbacks import Callback, EarlyStopping, ModelCheckpoint\n",
    "from tensorflow.keras.layers import Embedding,Input,Dense,Reshape,Flatten,Dropout,Multiply,Concatenate\n",
    "\n",
    "# colab\n",
    "# from google.colab import drive  "
   ]
  },
  {
   "cell_type": "markdown",
   "metadata": {
    "id": "J97VwvfZRqqG"
   },
   "source": [
    "**Hide Warnings**"
   ]
  },
  {
   "cell_type": "code",
   "execution_count": null,
   "metadata": {
    "id": "GBtN1Qh5RqqG"
   },
   "outputs": [],
   "source": [
    "warnings.filterwarnings('ignore')"
   ]
  },
  {
   "cell_type": "markdown",
   "metadata": {
    "id": "9ch0Cm6GRqqH"
   },
   "source": [
    "**Disable Autoscrolling**"
   ]
  },
  {
   "cell_type": "code",
   "execution_count": null,
   "metadata": {
    "colab": {
     "base_uri": "https://localhost:8080/",
     "height": 17
    },
    "id": "lRB-wh3mRqqI",
    "outputId": "0cdeacfc-14dc-471e-b0cd-a969fbe12205"
   },
   "outputs": [
    {
     "data": {
      "application/javascript": [
       "IPython.OutputArea.prototype._should_scroll = function(lines) {\n",
       "    return false;\n",
       "};"
      ],
      "text/plain": [
       "<IPython.core.display.Javascript object>"
      ]
     },
     "metadata": {},
     "output_type": "display_data"
    }
   ],
   "source": [
    "%%javascript\n",
    "IPython.OutputArea.prototype._should_scroll = function(lines) {\n",
    "    return false;\n",
    "};"
   ]
  },
  {
   "cell_type": "markdown",
   "metadata": {
    "id": "aisPWNYIRqqJ"
   },
   "source": [
    "<br><br><br>\n",
    "<br><br><br>\n",
    "<br><br><br>"
   ]
  },
  {
   "cell_type": "markdown",
   "metadata": {
    "id": "2OgYhYymRqqJ"
   },
   "source": [
    "## Question 1: Dataset Preparation (Ingestion)\n",
    "<br><br>"
   ]
  },
  {
   "cell_type": "markdown",
   "metadata": {
    "id": "qoUTwGvlRqqK"
   },
   "source": [
    "This implementation contains one file for training and two files for testing:   \n",
    "- ml-1m.train.rating   \n",
    "- ml-1m.test.rating  \n",
    "- ml-1m.test.negative   \n",
    "\n",
    "<br>\n",
    "(feel free to use visual explanations)\n",
    "<br>"
   ]
  },
  {
   "cell_type": "markdown",
   "metadata": {
    "id": "FrR6QxSLRqqL"
   },
   "source": [
    "a. **Explain** the role and structure of each file and how it was created from the original <a href='https://github.com/hexiangnan/neural_collaborative_filtering/tree/master/Data'>MovieLens 1M rating dataset</a>."
   ]
  },
  {
   "cell_type": "markdown",
   "metadata": {
    "id": "dhdqYglWRcpd"
   },
   "source": [
    "They use two datasets provided with the papar and their implementation: MovieLens 1 Million (ml-1m) and Pinterest (pinterest-20).\n",
    "We will focuse in this assignment on the MovieLens files.\n",
    "\n",
    "**ml-1m.train.rating:** </br>\n",
    "  Role - training data (positive instances)</br>\n",
    "  Structure - User ID | Item ID| Rating | Timestamp </br>\n",
    "  Dataset Creation - this file was created from the original MovieLens dataset (rating.dat), each row is a positive train instance of interactions between user and item. \n"
   ]
  },
  {
   "cell_type": "markdown",
   "metadata": {
    "id": "1zN71d5Ob5yY"
   },
   "source": [
    "**ml-1m.test.rating:** </br>\n",
    "Role - test data (positive instances)</br>\n",
    "Structure - User ID | Item ID| Rating | Timestamp </br>\n",
    "Dataset Creation - this file was created from the original MovieLens dataset (rating.dat), each row is a positive test instance of interactions between user and item. They took only the last item with the highest timestamp of each user."
   ]
  },
  {
   "cell_type": "markdown",
   "metadata": {
    "id": "qNSmbAWgcAUM"
   },
   "source": [
    "**ml-1m.test.negative:** </br>\n",
    "Role - test data (negative instances)</br>\n",
    "Structure - (User ID, Item ID) | Negative Item ID| Negative Item ID | Negative Item ID | .. </br>\n",
    "Dataset Creation - this file was created from the original MovieLens dataset (rating.dat), each row is a negative test instance of user and item that there was no interaction between them. the first column represent the user and the last item he had an interaction with. for each user, they took 99 items that the user didn't interacte with them (negative instance)."
   ]
  },
  {
   "cell_type": "markdown",
   "metadata": {
    "id": "3Y-mF3XYRqqL"
   },
   "source": [
    "b. **Explain** how the training dataset is created."
   ]
  },
  {
   "cell_type": "markdown",
   "metadata": {
    "id": "xB1fgm9va99f"
   },
   "source": [
    "The training dataset was generated explicitly from the rating.dat dataset,\n",
    "from the original MovieLens 1M dataset. "
   ]
  },
  {
   "cell_type": "markdown",
   "metadata": {
    "id": "Q5wbPgSYRqqM"
   },
   "source": [
    "c. **Explain** how the test dataset is created."
   ]
  },
  {
   "cell_type": "markdown",
   "metadata": {
    "id": "_P7yP4A9bL80"
   },
   "source": [
    "The test dataset was generated explicitly from the rating.dat dataset,\n",
    "from the original MovieLens 1M dataset and for each user they took the last item with that he had interation with according to the highest timestamp."
   ]
  },
  {
   "cell_type": "markdown",
   "metadata": {
    "id": "9tudywoLRqqN"
   },
   "source": [
    "#### Data Preperations:"
   ]
  },
  {
   "cell_type": "code",
   "execution_count": null,
   "metadata": {
    "id": "TjdMegVwRqqN"
   },
   "outputs": [],
   "source": [
    "#Creating Explicit dataset\n",
    "class Dataset(object):\n",
    "    \"\"\"\n",
    "    This class is a wrapper for the movie lens 1M dataset\n",
    "    \"\"\"\n",
    "    def __init__(self, path):\n",
    "        '''\n",
    "        Constructor\n",
    "        '''\n",
    "        self.trainMatrix = self.load_rating_file_as_matrix(path + \"ml-1m.train.rating\")\n",
    "        self.testRatings = self.load_rating_file_as_list(path + \"ml-1m.test.rating\")\n",
    "        self.testNegatives = self.load_negative_file(path + \"ml-1m.test.negative\")\n",
    "        assert len(self.testRatings) == len(self.testNegatives)\n",
    "        \n",
    "        self.num_users, self.num_items = self.trainMatrix.shape\n",
    "        \n",
    "    def load_rating_file_as_list(self, filename):\n",
    "        ratingList = []\n",
    "        with open(filename, \"r\") as f:\n",
    "            line = f.readline()\n",
    "            while line != None and line != \"\":\n",
    "                arr = line.split(\"\\t\")\n",
    "                user, item = int(arr[0]), int(arr[1])\n",
    "                ratingList.append([user, item])\n",
    "                line = f.readline()\n",
    "        return ratingList\n",
    "    \n",
    "    def load_negative_file(self, filename):\n",
    "        negativeList = []\n",
    "        with open(filename, \"r\") as f:\n",
    "            line = f.readline()\n",
    "            while line != None and line != \"\":\n",
    "                arr = line.split(\"\\t\")\n",
    "                negatives = []\n",
    "                for x in arr[1: ]:\n",
    "                    negatives.append(int(x))\n",
    "                negativeList.append(negatives)\n",
    "                line = f.readline()\n",
    "        return negativeList\n",
    "    \n",
    "    def load_rating_file_as_matrix(self, filename):\n",
    "        '''\n",
    "        Read .rating file and Return dok matrix.\n",
    "        The first line of .rating file is: num_users\\t num_items\n",
    "        '''\n",
    "        # Get number of users and items\n",
    "        num_users, num_items = 0, 0\n",
    "        with open(filename, \"r\") as f:\n",
    "            line = f.readline()\n",
    "            while line != None and line != \"\":\n",
    "                arr = line.split(\"\\t\")\n",
    "                u, i = int(arr[0]), int(arr[1])\n",
    "                num_users = max(num_users, u)\n",
    "                num_items = max(num_items, i)\n",
    "                line = f.readline()\n",
    "        # Construct matrix\n",
    "        mat = sp.dok_matrix((num_users+1, num_items+1), dtype=np.float32)\n",
    "        with open(filename, \"r\") as f:\n",
    "            line = f.readline()\n",
    "            while line != None and line != \"\":\n",
    "                arr = line.split(\"\\t\")\n",
    "                user, item, rating = int(arr[0]), int(arr[1]), float(arr[2])\n",
    "                if (rating > 0):\n",
    "                    mat[user, item] = 1.0\n",
    "                line = f.readline()    \n",
    "        return mat"
   ]
  },
  {
   "cell_type": "code",
   "execution_count": null,
   "metadata": {
    "colab": {
     "base_uri": "https://localhost:8080/"
    },
    "id": "Ol_rBEr9LMTd",
    "outputId": "f0dd39c6-27a2-4c5f-9ebb-5ae523e6870d"
   },
   "outputs": [
    {
     "name": "stdout",
     "output_type": "stream",
     "text": [
      "fatal: destination path 'neural_collaborative_filtering' already exists and is not an empty directory.\n"
     ]
    }
   ],
   "source": [
    "! git clone https://github.com/hexiangnan/neural_collaborative_filtering.git"
   ]
  },
  {
   "cell_type": "code",
   "execution_count": null,
   "metadata": {
    "colab": {
     "base_uri": "https://localhost:8080/"
    },
    "id": "7ITgq5fecmfZ",
    "outputId": "02dabc71-22aa-44bf-de2a-3ffa1f1a92f5"
   },
   "outputs": [
    {
     "name": "stdout",
     "output_type": "stream",
     "text": [
      "Load data done #user=6040, #item=3706, #train=994169, #test=6040\n"
     ]
    }
   ],
   "source": [
    "\n",
    "DATASET_PATH = '/content/neural_collaborative_filtering/Data/'\n",
    "dataset = Dataset(DATASET_PATH)\n",
    "\n",
    "train, testRatings, testNegatives = dataset.trainMatrix, dataset.testRatings, dataset.testNegatives\n",
    "num_users, num_items = train.shape\n",
    "print(\"Load data done #user=%d, #item=%d, #train=%d, #test=%d\" \n",
    "      %(num_users, num_items, train.nnz, len(testRatings)))"
   ]
  },
  {
   "cell_type": "code",
   "execution_count": null,
   "metadata": {
    "colab": {
     "base_uri": "https://localhost:8080/"
    },
    "id": "w98Bq4xemRk0",
    "outputId": "923127ec-29e6-4a13-ab42-68d683172eac"
   },
   "outputs": [
    {
     "name": "stdout",
     "output_type": "stream",
     "text": [
      "  (0, 0)\t1.0\n",
      "  (0, 1)\t1.0\n",
      "  (0, 2)\t1.0\n",
      "  (0, 3)\t1.0\n",
      "  (0, 4)\t1.0\n",
      "  (0, 5)\t1.0\n",
      "  (0, 6)\t1.0\n",
      "  (0, 7)\t1.0\n",
      "  (0, 8)\t1.0\n",
      "  (0, 9)\t1.0\n",
      "  (0, 10)\t1.0\n",
      "  (0, 11)\t1.0\n",
      "  (0, 12)\t1.0\n",
      "  (0, 13)\t1.0\n",
      "  (0, 14)\t1.0\n",
      "  (0, 15)\t1.0\n",
      "  (0, 16)\t1.0\n",
      "  (0, 17)\t1.0\n",
      "  (0, 18)\t1.0\n",
      "  (0, 19)\t1.0\n",
      "  (1, 0)\t1.0\n",
      "  (1, 18)\t1.0\n"
     ]
    }
   ],
   "source": [
    "#View sample from training set\n",
    "#First 2 users, first 20 items\n",
    "print(train[0:2,0:20])"
   ]
  },
  {
   "cell_type": "code",
   "execution_count": null,
   "metadata": {
    "colab": {
     "base_uri": "https://localhost:8080/"
    },
    "id": "Af-aiRsSmVUg",
    "outputId": "8c2b53c7-79f0-4670-ac90-5da60679aaea"
   },
   "outputs": [
    {
     "data": {
      "text/plain": [
       "[[0, 25], [1, 133], [2, 207], [3, 208], [4, 222]]"
      ]
     },
     "execution_count": 11,
     "metadata": {},
     "output_type": "execute_result"
    }
   ],
   "source": [
    "#View test ratings\n",
    "testRatings[0:5]"
   ]
  },
  {
   "cell_type": "code",
   "execution_count": null,
   "metadata": {
    "colab": {
     "base_uri": "https://localhost:8080/"
    },
    "id": "w1-q-S2xmajr",
    "outputId": "17b71e07-fd6b-4cd6-ab99-605c305519f8"
   },
   "outputs": [
    {
     "data": {
      "text/plain": [
       "[1064, 174, 2791, 3373, 269]"
      ]
     },
     "execution_count": 12,
     "metadata": {},
     "output_type": "execute_result"
    }
   ],
   "source": [
    "#View first 5 negative item for first sample\n",
    "testNegatives[0][0:5]"
   ]
  },
  {
   "cell_type": "markdown",
   "metadata": {
    "id": "vHK1ZM2ARqqO"
   },
   "source": [
    "<br><br><br>\n",
    "<br><br><br>\n"
   ]
  },
  {
   "cell_type": "markdown",
   "metadata": {
    "id": "oYa9kpKERqqO"
   },
   "source": [
    "## Question 2: Neural Collaborative Filtering \n",
    "<br><br>"
   ]
  },
  {
   "cell_type": "markdown",
   "metadata": {
    "id": "XRAcLfmYRqqP"
   },
   "source": [
    "## a. Build the following four models using the neural collaborative filtering approach: \n",
    "- Matrix Factorization (MF)\n",
    "- Multi layer perceptron (MLP)\n",
    "- Generalized Matrix Factorization (GMF) \n",
    "- NeuroMatrixFactorization (NMF)\n"
   ]
  },
  {
   "cell_type": "markdown",
   "metadata": {
    "id": "chwOI_2bRqqP"
   },
   "source": [
    "**Matrix Factorization (MF)**"
   ]
  },
  {
   "cell_type": "code",
   "execution_count": null,
   "metadata": {
    "id": "vri1H57weJXq"
   },
   "outputs": [],
   "source": [
    "def get_MF_model(num_users, num_items, latent_dim, regs=[[0,0]]):\n",
    "    user_input = Input(shape=(1,), dtype='int32', name = 'user_input')\n",
    "    item_input = Input(shape=(1,), dtype='int32', name = 'item_input')\n",
    "    MF_Embedding_User = Embedding(input_dim = num_users, output_dim = latent_dim, name = 'user_embedding', input_length=1)\n",
    "    MF_Embedding_Item = Embedding(input_dim = num_items, output_dim = latent_dim, name = 'item_embedding', input_length=1)  \n",
    "    user_latent = Flatten()(MF_Embedding_User(user_input))\n",
    "    item_latent = Flatten()(MF_Embedding_Item(item_input))\n",
    "    prediction = keras.layers.dot([user_latent,item_latent], axes=1,normalize=False)\n",
    "    #prediction = Multiply()([user_latent, item_latent]) \n",
    "\n",
    "    model = Model(inputs=[user_input, item_input], outputs=prediction)\n",
    "    return model"
   ]
  },
  {
   "cell_type": "markdown",
   "metadata": {
    "id": "ao6K8M_fRqqP"
   },
   "source": [
    "**Multi Layer Perceptron (MLP)**\n",
    "<br>\n",
    "![image.png](attachment:image.png)"
   ]
  },
  {
   "cell_type": "code",
   "execution_count": null,
   "metadata": {
    "id": "BNeLExZKgTj1"
   },
   "outputs": [],
   "source": [
    "def get_MLP_model(num_users, num_items, latent_dim, regs=[[0,0],0,0], layers = [20,10]):    \n",
    "    assert len(layers) + 1 == len(regs), 'the number of regs is equal to number of layers + the embedding layer'\n",
    "    num_layer = len(layers) #Number of layers in the MLP\n",
    "    user_input = Input(shape=(1,), dtype='int32', name = 'user_input')\n",
    "    item_input = Input(shape=(1,), dtype='int32', name = 'item_input')\n",
    "    MLP_Embedding_User = Embedding(input_dim = num_users, output_dim = latent_dim, name = 'user_embedding',\n",
    "                                   embeddings_regularizer = l2(regs[0][0]), input_length=1,embeddings_initializer=RandomNormal(mean=0.0, stddev=0.01)) \n",
    "    MLP_Embedding_Item = Embedding(input_dim = num_items, output_dim = latent_dim, name = 'item_embedding',\n",
    "                                   embeddings_regularizer = l2(regs[0][1]), input_length=1,embeddings_initializer=RandomNormal(mean=0.0, stddev=0.01)) \n",
    "    user_latent = Flatten()(MLP_Embedding_User(user_input))\n",
    "    item_latent = Flatten()(MLP_Embedding_Item(item_input))\n",
    "    vector = Concatenate(axis=-1)([user_latent, item_latent]) \n",
    "    \n",
    "    for idx in range(num_layer):\n",
    "        layer = Dense(layers[idx], kernel_regularizer = l2(regs[idx+1]), activation='relu', name = 'layer%d' %idx)\n",
    "        vector = layer(vector)\n",
    "        \n",
    "    prediction = Dense(1, activation='sigmoid', kernel_initializer='lecun_uniform', name = 'prediction')(vector)\n",
    "    model = Model(inputs=[user_input, item_input], outputs=prediction)\n",
    "    return model"
   ]
  },
  {
   "cell_type": "markdown",
   "metadata": {
    "id": "FP_zo3orRqqQ"
   },
   "source": [
    "**Generalized Matrix Factorization (GMF)**\n"
   ]
  },
  {
   "cell_type": "code",
   "execution_count": null,
   "metadata": {
    "id": "l-d1urT0hRn9"
   },
   "outputs": [],
   "source": [
    "def get_GMF_model(num_users, num_items, latent_dim, regs=[[0,0]]):\n",
    "    user_input = Input(shape=(1,), dtype='int32', name = 'user_input')\n",
    "    item_input = Input(shape=(1,), dtype='int32', name = 'item_input')\n",
    "    MF_Embedding_User = Embedding(input_dim = num_users, output_dim = latent_dim, name = 'user_embedding',\n",
    "                                   embeddings_regularizer = l2(regs[0][0]), input_length=1,embeddings_initializer=RandomNormal(mean=0.0, stddev=0.01)) \n",
    "    MF_Embedding_Item = Embedding(input_dim = num_items, output_dim = latent_dim, name = 'item_embedding',\n",
    "                                   embeddings_regularizer = l2(regs[0][1]), input_length=1,embeddings_initializer=RandomNormal(mean=0.0, stddev=0.01))  \n",
    "    user_latent = Flatten()(MF_Embedding_User(user_input))\n",
    "    item_latent = Flatten()(MF_Embedding_Item(item_input))\n",
    "    predict_vector = Multiply()([user_latent, item_latent])\n",
    "\n",
    "    \n",
    "    prediction = Dense(1, activation='sigmoid', kernel_initializer='lecun_uniform', name = 'prediction')(predict_vector)\n",
    "    model = Model(inputs=[user_input, item_input], outputs=prediction)\n",
    "    return model"
   ]
  },
  {
   "cell_type": "markdown",
   "metadata": {
    "id": "p2fWOwonRqqR"
   },
   "source": [
    "**NeuroMatrixFactorization (NMF)**"
   ]
  },
  {
   "cell_type": "code",
   "execution_count": null,
   "metadata": {
    "id": "RpUnvCe_jbiF"
   },
   "outputs": [],
   "source": [
    "def get_NMF_model(num_users, num_items, latent_dim_GMF, latent_dim_MLP, reg_GMF=[[0,0]], regs_MLP=[[0,0],0,0], layers=[20,10]):\n",
    "    #Neural matrix factorization\n",
    "    assert len(layers) + 1 == len(regs_MLP), 'the number of regs is equal to number of layers + the embedding layer'\n",
    "    num_layer = len(layers) #Number of layers in the MLP\n",
    "\n",
    "    # Input variables\n",
    "    user_input = Input(shape=(1,), dtype='int32', name = 'user_input')\n",
    "    item_input = Input(shape=(1,), dtype='int32', name = 'item_input')\n",
    "    \n",
    "    # Embedding layer\n",
    "    MF_Embedding_User = Embedding(input_dim = num_users, output_dim = latent_dim_GMF, name = 'MF_user_embedding',\n",
    "                                   embeddings_regularizer = l2(reg_GMF[0][0]), input_length=1,embeddings_initializer=RandomNormal(mean=0.0, stddev=0.01)) \n",
    "    MF_Embedding_Item = Embedding(input_dim = num_items, output_dim = latent_dim_GMF, name = 'MF_item_embedding',\n",
    "                                   embeddings_regularizer = l2(reg_GMF[0][1]), input_length=1,embeddings_initializer=RandomNormal(mean=0.0, stddev=0.01))  \n",
    "    \n",
    "    MLP_Embedding_User = Embedding(input_dim = num_users, output_dim = latent_dim_MLP, name = 'MLP_user_embedding',\n",
    "                                   embeddings_regularizer = l2(regs_MLP[0][0]), input_length=1,embeddings_initializer=RandomNormal(mean=0.0, stddev=0.01))\n",
    "    MLP_Embedding_Item = Embedding(input_dim = num_items, output_dim = latent_dim_MLP, name = 'MLP_item_embedding',\n",
    "                                   embeddings_regularizer = l2(regs_MLP[0][1]), input_length=1,embeddings_initializer=RandomNormal(mean=0.0, stddev=0.01)) \n",
    "    \n",
    "    # MF part\n",
    "    mf_user_latent = Flatten()(MF_Embedding_User(user_input))\n",
    "    mf_item_latent = Flatten()(MF_Embedding_Item(item_input))\n",
    "    mf_vector = Multiply()([mf_user_latent, mf_item_latent]) \n",
    "\n",
    "    # MLP part \n",
    "    mlp_user_latent = Flatten()(MLP_Embedding_User(user_input))\n",
    "    mlp_item_latent = Flatten()(MLP_Embedding_Item(item_input))\n",
    "    mlp_vector = Concatenate(axis=-1)([mlp_user_latent, mlp_item_latent])\n",
    "    for idx in range(num_layer):\n",
    "        layer =  Dense(layers[idx], kernel_regularizer = l2(regs_MLP[idx+1]), activation='tanh', name = 'layer%d' %idx)\n",
    "        mlp_vector = layer(mlp_vector)\n",
    "\n",
    "    # Concatenate MF and MLP parts\n",
    "    predict_vector = Concatenate(axis=-1)([mf_vector, mlp_vector])\n",
    "    \n",
    "    # Final prediction layer\n",
    "    prediction = Dense(1, activation='sigmoid', kernel_initializer='lecun_uniform', name = \"prediction\")(predict_vector)    \n",
    "    model = Model(inputs=[user_input, item_input], outputs=prediction)\n",
    "    return model"
   ]
  },
  {
   "cell_type": "markdown",
   "metadata": {
    "id": "wfIh9NHYRqqR"
   },
   "source": [
    "<br><br><br><br>"
   ]
  },
  {
   "cell_type": "markdown",
   "metadata": {
    "id": "Lby1B8tSRqqS"
   },
   "source": [
    "## b. Train and evaluate the recommendations accuracy of the models: \n",
    "- MF\n",
    "- GMF\n",
    "- MLP\n",
    "- NMF\n",
    "\n",
    "Compare the learning curve and recommendations accuracy using NDCG and MRR metrics with cutoff values of 5 and 10.   \n",
    "Discuss the comparison. "
   ]
  },
  {
   "cell_type": "markdown",
   "metadata": {
    "id": "jElNuAGBRqqS"
   },
   "source": [
    "**Metrics:**\n",
    "- HitRatio\n",
    "- nDCG\n",
    "- MRR"
   ]
  },
  {
   "cell_type": "markdown",
   "metadata": {
    "id": "c_puCDLhRqqS"
   },
   "source": [
    "**Evaluation:**"
   ]
  },
  {
   "cell_type": "code",
   "execution_count": null,
   "metadata": {
    "id": "Gy7bMRJKRqqT"
   },
   "outputs": [],
   "source": [
    "import math\n",
    "import heapq # for retrieval topK\n",
    "import multiprocessing\n",
    "import numpy as np\n",
    "from time import time\n",
    "#from numba import jit, autojit\n",
    "\n",
    "# Global variables that are shared across processes\n",
    "_model = None\n",
    "_testRatings = None\n",
    "_testNegatives = None\n",
    "_K = None\n",
    "\n",
    "def evaluate_model(model, testRatings, testNegatives, K, num_thread):\n",
    "    \"\"\"\n",
    "    Evaluate the performance (Hit_Ratio, NDCG) of top-K recommendation\n",
    "    Return: score of each test rating.\n",
    "    \"\"\"\n",
    "    global _model\n",
    "    global _testRatings\n",
    "    global _testNegatives\n",
    "    global _K\n",
    "    _model = model\n",
    "    _testRatings = testRatings\n",
    "    _testNegatives = testNegatives\n",
    "    _K = K\n",
    "        \n",
    "    hits, ndcgs, mrrs = [],[], []\n",
    "    if(num_thread > 1): # Multi-thread\n",
    "        pool = multiprocessing.Pool(processes=num_thread)\n",
    "        res = pool.map(eval_one_rating, range(len(_testRatings)))\n",
    "        pool.close()\n",
    "        pool.join()\n",
    "        hits = [r[0] for r in res]\n",
    "        ndcgs = [r[1] for r in res]\n",
    "        mrr = [r[2] for r in res]\n",
    "        return (hits, ndcgs, mrr)\n",
    "    # Single thread\n",
    "    for idx in range(len(_testRatings)):\n",
    "        (hr, ndcg, mrr) = eval_one_rating(idx)\n",
    "        hits.append(hr)\n",
    "        ndcgs.append(ndcg)\n",
    "        mrrs.append(mrr)\n",
    "    return (hits, ndcgs, mrrs)\n",
    "\n",
    "def eval_one_rating(idx):\n",
    "    rating = _testRatings[idx]\n",
    "    items = _testNegatives[idx]\n",
    "    u = rating[0]\n",
    "    gtItem = rating[1]\n",
    "    items.append(gtItem)\n",
    "    # Get prediction scores\n",
    "    map_item_score = {}\n",
    "    users = np.full(len(items), u, dtype = 'int32')\n",
    "    predictions = _model.predict([users, np.array(items)], \n",
    "                                 batch_size=100, verbose=0)\n",
    "    for i in range(len(items)):\n",
    "        item = items[i]\n",
    "        map_item_score[item] = predictions[i]\n",
    "    items.pop()\n",
    "    \n",
    "    # Evaluate top rank list\n",
    "    ranklist = heapq.nlargest(_K, map_item_score, key=map_item_score.get)\n",
    "    hr = getHitRatio(ranklist, gtItem)\n",
    "    ndcg = getNDCG(ranklist, gtItem)\n",
    "    mrr = getMRR(ranklist, gtItem)\n",
    "    return (hr, ndcg, mrr)\n",
    "\n",
    "def getHitRatio(ranklist, gtItem):\n",
    "    for item in ranklist:\n",
    "        if item == gtItem:\n",
    "            return 1\n",
    "    return 0\n",
    "\n",
    "def getNDCG(ranklist, gtItem):\n",
    "    for i in range(len(ranklist)):\n",
    "        item = ranklist[i]\n",
    "        if item == gtItem:\n",
    "            return math.log(2) / math.log(i+2)\n",
    "    return 0\n",
    "\n",
    "def getMRR(ranklist, gtItem):\n",
    "    for i in range(len(ranklist)):\n",
    "        item = ranklist[i]\n",
    "        if item == gtItem:\n",
    "            return 1 / (i + 1)\n",
    "    return 0"
   ]
  },
  {
   "cell_type": "markdown",
   "metadata": {
    "id": "NARGhcazRqqT"
   },
   "source": [
    "**HyperParams:**"
   ]
  },
  {
   "cell_type": "code",
   "execution_count": null,
   "metadata": {
    "colab": {
     "base_uri": "https://localhost:8080/"
    },
    "id": "J-Ws6qy4RqqT",
    "outputId": "087fcc40-7e3b-468c-a62e-eb2a1e8575ef"
   },
   "outputs": [
    {
     "name": "stdout",
     "output_type": "stream",
     "text": [
      "Model: \"model\"\n",
      "__________________________________________________________________________________________________\n",
      " Layer (type)                   Output Shape         Param #     Connected to                     \n",
      "==================================================================================================\n",
      " user_input (InputLayer)        [(None, 1)]          0           []                               \n",
      "                                                                                                  \n",
      " item_input (InputLayer)        [(None, 1)]          0           []                               \n",
      "                                                                                                  \n",
      " user_embedding (Embedding)     (None, 1, 20)        120800      ['user_input[0][0]']             \n",
      "                                                                                                  \n",
      " item_embedding (Embedding)     (None, 1, 20)        74120       ['item_input[0][0]']             \n",
      "                                                                                                  \n",
      " flatten (Flatten)              (None, 20)           0           ['user_embedding[0][0]']         \n",
      "                                                                                                  \n",
      " flatten_1 (Flatten)            (None, 20)           0           ['item_embedding[0][0]']         \n",
      "                                                                                                  \n",
      " dot (Dot)                      (None, 1)            0           ['flatten[0][0]',                \n",
      "                                                                  'flatten_1[0][0]']              \n",
      "                                                                                                  \n",
      "==================================================================================================\n",
      "Total params: 194,920\n",
      "Trainable params: 194,920\n",
      "Non-trainable params: 0\n",
      "__________________________________________________________________________________________________\n",
      "None\n",
      "Model: \"model_1\"\n",
      "__________________________________________________________________________________________________\n",
      " Layer (type)                   Output Shape         Param #     Connected to                     \n",
      "==================================================================================================\n",
      " user_input (InputLayer)        [(None, 1)]          0           []                               \n",
      "                                                                                                  \n",
      " item_input (InputLayer)        [(None, 1)]          0           []                               \n",
      "                                                                                                  \n",
      " user_embedding (Embedding)     (None, 1, 20)        120800      ['user_input[0][0]']             \n",
      "                                                                                                  \n",
      " item_embedding (Embedding)     (None, 1, 20)        74120       ['item_input[0][0]']             \n",
      "                                                                                                  \n",
      " flatten_2 (Flatten)            (None, 20)           0           ['user_embedding[0][0]']         \n",
      "                                                                                                  \n",
      " flatten_3 (Flatten)            (None, 20)           0           ['item_embedding[0][0]']         \n",
      "                                                                                                  \n",
      " multiply (Multiply)            (None, 20)           0           ['flatten_2[0][0]',              \n",
      "                                                                  'flatten_3[0][0]']              \n",
      "                                                                                                  \n",
      " prediction (Dense)             (None, 1)            21          ['multiply[0][0]']               \n",
      "                                                                                                  \n",
      "==================================================================================================\n",
      "Total params: 194,941\n",
      "Trainable params: 194,941\n",
      "Non-trainable params: 0\n",
      "__________________________________________________________________________________________________\n",
      "None\n",
      "Model: \"model_2\"\n",
      "__________________________________________________________________________________________________\n",
      " Layer (type)                   Output Shape         Param #     Connected to                     \n",
      "==================================================================================================\n",
      " user_input (InputLayer)        [(None, 1)]          0           []                               \n",
      "                                                                                                  \n",
      " item_input (InputLayer)        [(None, 1)]          0           []                               \n",
      "                                                                                                  \n",
      " user_embedding (Embedding)     (None, 1, 8)         48320       ['user_input[0][0]']             \n",
      "                                                                                                  \n",
      " item_embedding (Embedding)     (None, 1, 8)         29648       ['item_input[0][0]']             \n",
      "                                                                                                  \n",
      " flatten_4 (Flatten)            (None, 8)            0           ['user_embedding[0][0]']         \n",
      "                                                                                                  \n",
      " flatten_5 (Flatten)            (None, 8)            0           ['item_embedding[0][0]']         \n",
      "                                                                                                  \n",
      " concatenate (Concatenate)      (None, 16)           0           ['flatten_4[0][0]',              \n",
      "                                                                  'flatten_5[0][0]']              \n",
      "                                                                                                  \n",
      " layer0 (Dense)                 (None, 32)           544         ['concatenate[0][0]']            \n",
      "                                                                                                  \n",
      " layer1 (Dense)                 (None, 16)           528         ['layer0[0][0]']                 \n",
      "                                                                                                  \n",
      " layer2 (Dense)                 (None, 8)            136         ['layer1[0][0]']                 \n",
      "                                                                                                  \n",
      " prediction (Dense)             (None, 1)            9           ['layer2[0][0]']                 \n",
      "                                                                                                  \n",
      "==================================================================================================\n",
      "Total params: 79,185\n",
      "Trainable params: 79,185\n",
      "Non-trainable params: 0\n",
      "__________________________________________________________________________________________________\n",
      "None\n",
      "Model: \"model_3\"\n",
      "__________________________________________________________________________________________________\n",
      " Layer (type)                   Output Shape         Param #     Connected to                     \n",
      "==================================================================================================\n",
      " user_input (InputLayer)        [(None, 1)]          0           []                               \n",
      "                                                                                                  \n",
      " item_input (InputLayer)        [(None, 1)]          0           []                               \n",
      "                                                                                                  \n",
      " MLP_user_embedding (Embedding)  (None, 1, 8)        48320       ['user_input[0][0]']             \n",
      "                                                                                                  \n",
      " MLP_item_embedding (Embedding)  (None, 1, 8)        29648       ['item_input[0][0]']             \n",
      "                                                                                                  \n",
      " flatten_8 (Flatten)            (None, 8)            0           ['MLP_user_embedding[0][0]']     \n",
      "                                                                                                  \n",
      " flatten_9 (Flatten)            (None, 8)            0           ['MLP_item_embedding[0][0]']     \n",
      "                                                                                                  \n",
      " concatenate_1 (Concatenate)    (None, 16)           0           ['flatten_8[0][0]',              \n",
      "                                                                  'flatten_9[0][0]']              \n",
      "                                                                                                  \n",
      " MF_user_embedding (Embedding)  (None, 1, 8)         48320       ['user_input[0][0]']             \n",
      "                                                                                                  \n",
      " MF_item_embedding (Embedding)  (None, 1, 8)         29648       ['item_input[0][0]']             \n",
      "                                                                                                  \n",
      " layer0 (Dense)                 (None, 32)           544         ['concatenate_1[0][0]']          \n",
      "                                                                                                  \n",
      " flatten_6 (Flatten)            (None, 8)            0           ['MF_user_embedding[0][0]']      \n",
      "                                                                                                  \n",
      " flatten_7 (Flatten)            (None, 8)            0           ['MF_item_embedding[0][0]']      \n",
      "                                                                                                  \n",
      " layer1 (Dense)                 (None, 16)           528         ['layer0[0][0]']                 \n",
      "                                                                                                  \n",
      " multiply_1 (Multiply)          (None, 8)            0           ['flatten_6[0][0]',              \n",
      "                                                                  'flatten_7[0][0]']              \n",
      "                                                                                                  \n",
      " layer2 (Dense)                 (None, 8)            136         ['layer1[0][0]']                 \n",
      "                                                                                                  \n",
      " concatenate_2 (Concatenate)    (None, 16)           0           ['multiply_1[0][0]',             \n",
      "                                                                  'layer2[0][0]']                 \n",
      "                                                                                                  \n",
      " prediction (Dense)             (None, 1)            17          ['concatenate_2[0][0]']          \n",
      "                                                                                                  \n",
      "==================================================================================================\n",
      "Total params: 157,161\n",
      "Trainable params: 157,161\n",
      "Non-trainable params: 0\n",
      "__________________________________________________________________________________________________\n",
      "None\n"
     ]
    }
   ],
   "source": [
    "#Selected hyperparameters\n",
    "num_negatives = 4 \n",
    "learning_rate = 0.001\n",
    "epochs = 10\n",
    "batch_size = 256\n",
    "verbose = 1\n",
    "evaluation_threads = 1 \n",
    "write_model=False\n",
    "topK = 10\n",
    "\n",
    "\n",
    "models = [get_MF_model(num_users, num_items, latent_dim = 20, regs = [[0,0]]),\n",
    "          get_GMF_model(num_users, num_items, latent_dim = 20, regs=[[0,0]]),\n",
    "          get_MLP_model(num_users, num_items, latent_dim = 8, regs = [[0,0],0,0,0], layers = [32,16,8]),\n",
    "          get_NMF_model(num_users, num_items, latent_dim_GMF = 8, latent_dim_MLP = 8, reg_GMF=[[0,0]], regs_MLP=[[0,0],0,0,0], layers=[32,16,8]) ]\n",
    "\n",
    "model_names = ['MF', 'GMF', 'MLP', 'NMF']\n",
    "\n",
    "for model, model_name in zip(models, model_names):\n",
    "    print(model.summary())\n",
    "    model.compile(optimizer=Adam(lr=learning_rate), loss='binary_crossentropy')"
   ]
  },
  {
   "cell_type": "code",
   "execution_count": null,
   "metadata": {
    "colab": {
     "base_uri": "https://localhost:8080/"
    },
    "id": "udOgovB2P4u2",
    "outputId": "f2e98988-3462-462b-ed05-c8184494b122"
   },
   "outputs": [
    {
     "name": "stdout",
     "output_type": "stream",
     "text": [
      "MF model\n",
      "GMF model\n",
      "MLP model\n",
      "NMF model\n"
     ]
    }
   ],
   "source": [
    "#Print out models\n",
    "for model in range(len(model_names)):\n",
    "  print(f'{model_names[model]} model')\n",
    "  keras.utils.plot_model(models[model], model_names[model]+'.png', show_shapes=True)"
   ]
  },
  {
   "cell_type": "markdown",
   "metadata": {
    "id": "tuHokOnGRqqU"
   },
   "source": [
    "<br><br>\n",
    "Create train data:"
   ]
  },
  {
   "cell_type": "code",
   "execution_count": null,
   "metadata": {
    "id": "1ReXKjdYpeZd"
   },
   "outputs": [],
   "source": [
    "def get_train_instances(train, num_negatives):\n",
    "    user_input, item_input, labels = [],[],[]\n",
    "    num_users = train.shape[0]\n",
    "    for (u, i) in train.keys():\n",
    "        # positive instance\n",
    "        user_input.append(u)\n",
    "        item_input.append(i)\n",
    "        labels.append(1)\n",
    "        # negative instances\n",
    "        for t in range(num_negatives):\n",
    "            j = np.random.randint(num_items)\n",
    "            while (u, j) in train:\n",
    "                j = np.random.randint(num_items)\n",
    "            user_input.append(u)\n",
    "            item_input.append(j)\n",
    "            labels.append(0)\n",
    "    return user_input, item_input, labels"
   ]
  },
  {
   "cell_type": "markdown",
   "metadata": {
    "id": "NulbXDn1RqqU"
   },
   "source": [
    "<br><br>\n",
    "Train & Eval:"
   ]
  },
  {
   "cell_type": "code",
   "execution_count": null,
   "metadata": {
    "colab": {
     "base_uri": "https://localhost:8080/"
    },
    "id": "kz2gdWVzRqqU",
    "outputId": "6c325339-8a16-4089-a47e-2b8376ad81a8"
   },
   "outputs": [
    {
     "name": "stdout",
     "output_type": "stream",
     "text": [
      "Training model: MF\n",
      "Epoch 1\t time: 81.931 seconds\n",
      "Epoch 2\t time: 162.696 seconds\n",
      "Epoch 3\t time: 243.330 seconds\n",
      "Epoch 4\t time: 323.747 seconds\n",
      "Epoch 5\t time: 404.084 seconds\n",
      "Epoch 6\t time: 484.487 seconds\n",
      "Epoch 7\t time: 565.104 seconds\n",
      "Epoch 8\t time: 645.501 seconds\n",
      "Epoch 9\t time: 725.852 seconds\n",
      "Epoch 10\t time: 806.112 seconds\n",
      "Training model: GMF\n",
      "Epoch 1\t time: 72.047 seconds\n",
      "Epoch 2\t time: 142.910 seconds\n",
      "Epoch 3\t time: 213.931 seconds\n",
      "Epoch 4\t time: 284.693 seconds\n",
      "Epoch 5\t time: 355.412 seconds\n",
      "Epoch 6\t time: 426.485 seconds\n",
      "Epoch 7\t time: 497.789 seconds\n",
      "Epoch 8\t time: 568.858 seconds\n",
      "Epoch 9\t time: 639.757 seconds\n",
      "Epoch 10\t time: 710.773 seconds\n",
      "Training model: MLP\n",
      "Epoch 1\t time: 78.447 seconds\n",
      "Epoch 2\t time: 156.099 seconds\n",
      "Epoch 3\t time: 234.081 seconds\n",
      "Epoch 4\t time: 311.854 seconds\n",
      "Epoch 5\t time: 389.341 seconds\n",
      "Epoch 6\t time: 467.235 seconds\n",
      "Epoch 7\t time: 545.020 seconds\n",
      "Epoch 8\t time: 622.619 seconds\n",
      "Epoch 9\t time: 700.406 seconds\n",
      "Epoch 10\t time: 778.465 seconds\n",
      "Training model: NMF\n",
      "Epoch 1\t time: 84.588 seconds\n",
      "Epoch 2\t time: 168.697 seconds\n",
      "Epoch 3\t time: 252.829 seconds\n",
      "Epoch 4\t time: 336.874 seconds\n",
      "Epoch 5\t time: 420.449 seconds\n",
      "Epoch 6\t time: 504.379 seconds\n",
      "Epoch 7\t time: 588.217 seconds\n",
      "Epoch 8\t time: 671.897 seconds\n",
      "Epoch 9\t time: 755.601 seconds\n",
      "Epoch 10\t time: 839.488 seconds\n",
      "Train complete\n"
     ]
    }
   ],
   "source": [
    "epochs = 10\n",
    "results = pd.DataFrame(\n",
    "          {col: np.nan for col in ['time','hr5', 'hr10', 'ndcg5', 'ndcg10', 'mrr5', 'mrr10']},\n",
    "          index=model_names)\n",
    "losses = pd.DataFrame({col: np.nan for col in model_names}, index=range(0,epochs))\n",
    "\n",
    "for model, model_name in zip(models, model_names):\n",
    "    loss_hist = []\n",
    "    t1 = time()\n",
    "\n",
    "    print(f'Training model: {model_name}')\n",
    "    for epoch in range(1, epochs + 1):\n",
    "        # Generate training instances\n",
    "        user_input, item_input, labels = get_train_instances(train, num_negatives)\n",
    "        \n",
    "        # Training\n",
    "        hist = model.fit([np.array(user_input), np.array(item_input)], #input\n",
    "                         np.array(labels), # labels \n",
    "                         batch_size=batch_size, epochs=1, verbose=0, shuffle=True)\n",
    "\n",
    "        print('Epoch {0}\\t time: {1:.3f} seconds'.format(epoch, time() - t1))\n",
    "\n",
    "        loss_hist.append(hist.history['loss'][0])\n",
    "    \n",
    "    end = time()\n",
    "    results.loc[model_name,'time'] = np.round((end - t1)/60,4)\n",
    "    losses[model_name] = pd.Series(loss_hist)\n",
    "    #Calculate metrics\n",
    "    (hits5, ndcgs5, mrr5) = evaluate_model(model, testRatings, testNegatives, 5, evaluation_threads) \n",
    "    hr5, ndcg5, mrr5 = np.array(hits5).mean(), np.array(ndcgs5).mean(), np.array(mrr5).mean()\n",
    "\n",
    "    (hits10, ndcgs10, mrr10) = evaluate_model(model, testRatings, testNegatives, 10, evaluation_threads)\n",
    "    hr10, ndcg10, mrr10 = np.array(hits10).mean(), np.array(ndcgs10).mean(), np.array(mrr5).mean()\n",
    "\n",
    "    results.loc[model_name, 'hr5'] = hr5\n",
    "    results.loc[model_name, 'hr10'] = hr10\n",
    "    results.loc[model_name, 'ndcg5'] = ndcg5\n",
    "    results.loc[model_name, 'ndcg10'] = ndcg10\n",
    "    results.loc[model_name, 'mrr5'] = mrr5\n",
    "    results.loc[model_name, 'mrr10'] = mrr10\n",
    "\n",
    "print(\"Train complete\")"
   ]
  },
  {
   "cell_type": "markdown",
   "metadata": {
    "id": "6i5Y1xfiRqqV"
   },
   "source": [
    "<br><br><br><br>\n",
    "All Results:"
   ]
  },
  {
   "cell_type": "code",
   "execution_count": null,
   "metadata": {
    "colab": {
     "base_uri": "https://localhost:8080/",
     "height": 175
    },
    "id": "CqQqib0SoAu-",
    "outputId": "dac3b88e-94ee-4eec-8529-626b701a8ead"
   },
   "outputs": [
    {
     "data": {
      "text/html": [
       "\n",
       "  <div id=\"df-2e7e2565-395e-4ccc-a3a8-3cd5d9296c46\">\n",
       "    <div class=\"colab-df-container\">\n",
       "      <div>\n",
       "<style scoped>\n",
       "    .dataframe tbody tr th:only-of-type {\n",
       "        vertical-align: middle;\n",
       "    }\n",
       "\n",
       "    .dataframe tbody tr th {\n",
       "        vertical-align: top;\n",
       "    }\n",
       "\n",
       "    .dataframe thead th {\n",
       "        text-align: right;\n",
       "    }\n",
       "</style>\n",
       "<table border=\"1\" class=\"dataframe\">\n",
       "  <thead>\n",
       "    <tr style=\"text-align: right;\">\n",
       "      <th></th>\n",
       "      <th>time</th>\n",
       "      <th>hr5</th>\n",
       "      <th>hr10</th>\n",
       "      <th>ndcg5</th>\n",
       "      <th>ndcg10</th>\n",
       "      <th>mrr5</th>\n",
       "      <th>mrr10</th>\n",
       "    </tr>\n",
       "  </thead>\n",
       "  <tbody>\n",
       "    <tr>\n",
       "      <th>MF</th>\n",
       "      <td>13.4352</td>\n",
       "      <td>0.493212</td>\n",
       "      <td>0.667550</td>\n",
       "      <td>0.335919</td>\n",
       "      <td>0.392385</td>\n",
       "      <td>0.284230</td>\n",
       "      <td>0.284230</td>\n",
       "    </tr>\n",
       "    <tr>\n",
       "      <th>GMF</th>\n",
       "      <td>11.8462</td>\n",
       "      <td>0.512583</td>\n",
       "      <td>0.685430</td>\n",
       "      <td>0.351525</td>\n",
       "      <td>0.407520</td>\n",
       "      <td>0.298496</td>\n",
       "      <td>0.298496</td>\n",
       "    </tr>\n",
       "    <tr>\n",
       "      <th>MLP</th>\n",
       "      <td>12.9744</td>\n",
       "      <td>0.438411</td>\n",
       "      <td>0.626656</td>\n",
       "      <td>0.296446</td>\n",
       "      <td>0.357338</td>\n",
       "      <td>0.249807</td>\n",
       "      <td>0.249807</td>\n",
       "    </tr>\n",
       "    <tr>\n",
       "      <th>NMF</th>\n",
       "      <td>13.9915</td>\n",
       "      <td>0.486589</td>\n",
       "      <td>0.665232</td>\n",
       "      <td>0.330944</td>\n",
       "      <td>0.388858</td>\n",
       "      <td>0.279851</td>\n",
       "      <td>0.279851</td>\n",
       "    </tr>\n",
       "  </tbody>\n",
       "</table>\n",
       "</div>\n",
       "      <button class=\"colab-df-convert\" onclick=\"convertToInteractive('df-2e7e2565-395e-4ccc-a3a8-3cd5d9296c46')\"\n",
       "              title=\"Convert this dataframe to an interactive table.\"\n",
       "              style=\"display:none;\">\n",
       "        \n",
       "  <svg xmlns=\"http://www.w3.org/2000/svg\" height=\"24px\"viewBox=\"0 0 24 24\"\n",
       "       width=\"24px\">\n",
       "    <path d=\"M0 0h24v24H0V0z\" fill=\"none\"/>\n",
       "    <path d=\"M18.56 5.44l.94 2.06.94-2.06 2.06-.94-2.06-.94-.94-2.06-.94 2.06-2.06.94zm-11 1L8.5 8.5l.94-2.06 2.06-.94-2.06-.94L8.5 2.5l-.94 2.06-2.06.94zm10 10l.94 2.06.94-2.06 2.06-.94-2.06-.94-.94-2.06-.94 2.06-2.06.94z\"/><path d=\"M17.41 7.96l-1.37-1.37c-.4-.4-.92-.59-1.43-.59-.52 0-1.04.2-1.43.59L10.3 9.45l-7.72 7.72c-.78.78-.78 2.05 0 2.83L4 21.41c.39.39.9.59 1.41.59.51 0 1.02-.2 1.41-.59l7.78-7.78 2.81-2.81c.8-.78.8-2.07 0-2.86zM5.41 20L4 18.59l7.72-7.72 1.47 1.35L5.41 20z\"/>\n",
       "  </svg>\n",
       "      </button>\n",
       "      \n",
       "  <style>\n",
       "    .colab-df-container {\n",
       "      display:flex;\n",
       "      flex-wrap:wrap;\n",
       "      gap: 12px;\n",
       "    }\n",
       "\n",
       "    .colab-df-convert {\n",
       "      background-color: #E8F0FE;\n",
       "      border: none;\n",
       "      border-radius: 50%;\n",
       "      cursor: pointer;\n",
       "      display: none;\n",
       "      fill: #1967D2;\n",
       "      height: 32px;\n",
       "      padding: 0 0 0 0;\n",
       "      width: 32px;\n",
       "    }\n",
       "\n",
       "    .colab-df-convert:hover {\n",
       "      background-color: #E2EBFA;\n",
       "      box-shadow: 0px 1px 2px rgba(60, 64, 67, 0.3), 0px 1px 3px 1px rgba(60, 64, 67, 0.15);\n",
       "      fill: #174EA6;\n",
       "    }\n",
       "\n",
       "    [theme=dark] .colab-df-convert {\n",
       "      background-color: #3B4455;\n",
       "      fill: #D2E3FC;\n",
       "    }\n",
       "\n",
       "    [theme=dark] .colab-df-convert:hover {\n",
       "      background-color: #434B5C;\n",
       "      box-shadow: 0px 1px 3px 1px rgba(0, 0, 0, 0.15);\n",
       "      filter: drop-shadow(0px 1px 2px rgba(0, 0, 0, 0.3));\n",
       "      fill: #FFFFFF;\n",
       "    }\n",
       "  </style>\n",
       "\n",
       "      <script>\n",
       "        const buttonEl =\n",
       "          document.querySelector('#df-2e7e2565-395e-4ccc-a3a8-3cd5d9296c46 button.colab-df-convert');\n",
       "        buttonEl.style.display =\n",
       "          google.colab.kernel.accessAllowed ? 'block' : 'none';\n",
       "\n",
       "        async function convertToInteractive(key) {\n",
       "          const element = document.querySelector('#df-2e7e2565-395e-4ccc-a3a8-3cd5d9296c46');\n",
       "          const dataTable =\n",
       "            await google.colab.kernel.invokeFunction('convertToInteractive',\n",
       "                                                     [key], {});\n",
       "          if (!dataTable) return;\n",
       "\n",
       "          const docLinkHtml = 'Like what you see? Visit the ' +\n",
       "            '<a target=\"_blank\" href=https://colab.research.google.com/notebooks/data_table.ipynb>data table notebook</a>'\n",
       "            + ' to learn more about interactive tables.';\n",
       "          element.innerHTML = '';\n",
       "          dataTable['output_type'] = 'display_data';\n",
       "          await google.colab.output.renderOutput(dataTable, element);\n",
       "          const docLink = document.createElement('div');\n",
       "          docLink.innerHTML = docLinkHtml;\n",
       "          element.appendChild(docLink);\n",
       "        }\n",
       "      </script>\n",
       "    </div>\n",
       "  </div>\n",
       "  "
      ],
      "text/plain": [
       "        time       hr5      hr10     ndcg5    ndcg10      mrr5     mrr10\n",
       "MF   13.4352  0.493212  0.667550  0.335919  0.392385  0.284230  0.284230\n",
       "GMF  11.8462  0.512583  0.685430  0.351525  0.407520  0.298496  0.298496\n",
       "MLP  12.9744  0.438411  0.626656  0.296446  0.357338  0.249807  0.249807\n",
       "NMF  13.9915  0.486589  0.665232  0.330944  0.388858  0.279851  0.279851"
      ]
     },
     "execution_count": 70,
     "metadata": {},
     "output_type": "execute_result"
    }
   ],
   "source": [
    "results"
   ]
  },
  {
   "cell_type": "markdown",
   "metadata": {
    "id": "9GFikLdaRqqV"
   },
   "source": [
    "<br><br><br><br>\n",
    "Train & Validation Loss:"
   ]
  },
  {
   "cell_type": "code",
   "execution_count": null,
   "metadata": {
    "colab": {
     "base_uri": "https://localhost:8080/",
     "height": 295
    },
    "id": "2f64giJCRqqV",
    "outputId": "b4bc62f3-a5bd-48e1-a4a8-0f732fb248f6"
   },
   "outputs": [
    {
     "data": {
      "image/png": "[encoded data removed]",
      "text/plain": [
       "<Figure size 432x288 with 1 Axes>"
      ]
     },
     "metadata": {
      "needs_background": "light"
     },
     "output_type": "display_data"
    }
   ],
   "source": [
    "fig, axes = plt.subplots()\n",
    "sns.lineplot(data=losses)\n",
    "axes.set_title('Test Loss (Binary Cross Entropy)')\n",
    "axes.set_xlabel('Iteration')\n",
    "axes.set_ylabel('Loss')\n",
    "plt.show()"
   ]
  },
  {
   "cell_type": "markdown",
   "metadata": {
    "id": "ubo3bWeCDHL4"
   },
   "source": [
    "We noticed that besides for MF model all other models have a loss that converges. MF loss is increasing after 1 iteration which means the learning rate it too large or the model is overfitting the training data leading to increase in test loss. "
   ]
  },
  {
   "cell_type": "markdown",
   "metadata": {
    "id": "kZkvxuqLRqqW"
   },
   "source": [
    "Training Time:"
   ]
  },
  {
   "cell_type": "code",
   "execution_count": null,
   "metadata": {
    "colab": {
     "base_uri": "https://localhost:8080/",
     "height": 295
    },
    "id": "WlGRsLFNRqqW",
    "outputId": "2ea26ee0-5295-419a-9662-e8ef18a5ee41"
   },
   "outputs": [
    {
     "data": {
      "image/png": "[encoded data removed]",
      "text/plain": [
       "<Figure size 432x288 with 1 Axes>"
      ]
     },
     "metadata": {
      "needs_background": "light"
     },
     "output_type": "display_data"
    }
   ],
   "source": [
    "fig, axes = plt.subplots()\n",
    "sns.barplot(data = results, x = results.index, y = 'time')\n",
    "axes.set_title(f'Time for Training over {epochs} Epochs')\n",
    "axes.set_xlabel('Model')\n",
    "axes.set_ylabel('Time (min)')\n",
    "plt.show()"
   ]
  },
  {
   "cell_type": "markdown",
   "metadata": {
    "id": "JCFVgTD8RqqW"
   },
   "source": [
    "Metric Evaluation:"
   ]
  },
  {
   "cell_type": "code",
   "execution_count": null,
   "metadata": {
    "colab": {
     "base_uri": "https://localhost:8080/",
     "height": 259
    },
    "id": "l_2MGzMqk3u-",
    "outputId": "e4eed149-49f6-4b71-b93b-bc07e6712038"
   },
   "outputs": [
    {
     "data": {
      "image/png": "[encoded data removed]",
      "text/plain": [
       "<Figure size 1008x216 with 3 Axes>"
      ]
     },
     "metadata": {
      "needs_background": "light"
     },
     "output_type": "display_data"
    }
   ],
   "source": [
    "fig, axes = plt.subplots(1,3, figsize = (14,3))\n",
    "metrics = ['hr', 'ndcg', 'mrr']\n",
    "\n",
    "for i , m in enumerate(metrics):\n",
    "  results[[f'{m}5', f'{m}10']].transpose().plot(kind='bar', ax = axes[i], legend = False)\n",
    "  axes[i].set_ylabel('Score')\n",
    "  if m == 'hr':\n",
    "    axes[i].set_title('Hit Rate')\n",
    "  elif m == 'ndcg':  \n",
    "    axes[i].set_title('NDCG')\n",
    "  elif m == 'mrr':\n",
    "    axes[i].set_title('MRR')\n",
    "\n",
    "fig.legend( labels=model_names,   \n",
    "           loc=\"upper left\",   \n",
    "           title=\"Models\"  \n",
    "           )\n",
    "plt.show()"
   ]
  },
  {
   "cell_type": "markdown",
   "metadata": {
    "id": "7MoOZxRORqqX"
   },
   "source": [
    "<br><br><br><br>"
   ]
  },
  {
   "cell_type": "markdown",
   "metadata": {
    "id": "ItQck2qaRqqX"
   },
   "source": [
    "**c. How the values of MRR and NDCG are differ from the results you got in the previous exercises which implemented the explicit recommendation approach. What are the difference in preparing the dataset for evaluation.**"
   ]
  },
  {
   "cell_type": "markdown",
   "metadata": {
    "id": "vvhXnQbt2t52"
   },
   "source": [
    "The values of MRR and NDCG are lower than we got the previous exercises, it makes sense because we used different dataset for the recommendations. Our data was very sparse and this could of had an impact.In this exercise we used implicit dataset based on ratings and the other were related to explicit dataset. </br>\n",
    "The difference in preparing the datasets for evaluation is that here we used also negative instances. "
   ]
  },
  {
   "cell_type": "markdown",
   "metadata": {
    "id": "wfUvzDb8RqqY"
   },
   "source": [
    "**d. How will you measure item similarity using the NeuMF model?**"
   ]
  },
  {
   "cell_type": "markdown",
   "metadata": {
    "id": "Si7ApgETCu98"
   },
   "source": [
    "To measure item simillarity using the NeuMF model, we should extract their latent representation that provies a representation of the item in lower dimension. The user and item vectors are calculated by the first layer following the input layers.\n",
    "\n",
    "In the NeuMF model, the users and item vectors are first transformed into latend vectors. Then this output is concatenated and used as intput for the neural net. While training, the neural network learns and updates the weights of these two first layers to learn the optimal embedding for the task. After training we can extract the weights matrix of the first layer for item vectors. Then we get that each column (column and not row since the input vector is one-hot encoded) in that matrix will be a latent vector representation of an item.\n",
    "\n",
    "Once we have the item vector representation (the latend vector) we can use any correlation metric like those used in assignment 1 (cosine, pearson, etc.) "
   ]
  },
  {
   "cell_type": "markdown",
   "metadata": {
    "id": "gWXg_NVqRqqY"
   },
   "source": [
    "<br><br><br>\n",
    "<br><br><br>\n",
    "<br><br><br>"
   ]
  },
  {
   "cell_type": "markdown",
   "metadata": {
    "id": "-PSz_ld3RqqY"
   },
   "source": [
    "## Question 3: Loss Function \n",
    "<br><br>"
   ]
  },
  {
   "cell_type": "markdown",
   "metadata": {
    "id": "Yl8K1AIWRqqY"
   },
   "source": [
    "#### a. One of the enhancements presented in the Neural Collaborative Filtering paper is the usage of probabilistic activation function (the sigmoid) and binary cross entropy loss function.   \n",
    "\n",
    "Select one of the models you implemented in question 2 and change the loss function to a `Mean Squared Error` and the activation function of the last layer to `RELU`.   \n",
    "\n",
    "Train the model and evaluate it in a similar way to what you did in question 2. \n",
    "Compare the results and discuss."
   ]
  },
  {
   "cell_type": "code",
   "execution_count": null,
   "metadata": {
    "id": "gOlxp6S27YsU"
   },
   "outputs": [],
   "source": [
    "def get_MLP_model_2(num_users, num_items, latent_dim, regs=[[0,0],0,0],  layers = [20,10], final_layer='sigmoid'):\n",
    "    #Multi-Layer Perceptron\n",
    "    \n",
    "    assert len(layers) + 1 == len(regs), 'the number of regs is equal to number of layers + the embedding layer'\n",
    "    num_layer = len(layers) #Number of layers in the MLP\n",
    "    # Input variables\n",
    "    user_input = Input(shape=(1,), dtype='int32', name = 'user_input')\n",
    "    item_input = Input(shape=(1,), dtype='int32', name = 'item_input')\n",
    "    print(f'regs : {regs[0][0]}')\n",
    "    print(f'regs : {regs[0][1]}')\n",
    "    MLP_Embedding_User = Embedding(input_dim = num_users, output_dim = latent_dim, name = 'user_embedding', \\\n",
    "                                   embeddings_regularizer = l2(regs[0][0]), input_length=1,embeddings_initializer=RandomNormal(mean=0.0, stddev=0.01)) #init = init_normal,\n",
    "    MLP_Embedding_Item = Embedding(input_dim = num_items, output_dim = latent_dim, name = 'item_embedding', \\\n",
    "                                   embeddings_regularizer = l2(regs[0][1]), input_length=1,embeddings_initializer=RandomNormal(mean=0.0, stddev=0.01)) #init = init_normal,\n",
    "    \n",
    "\n",
    "    # Crucial to flatten an embedding vector!\n",
    "    user_latent = Flatten()(MLP_Embedding_User(user_input))\n",
    "    item_latent = Flatten()(MLP_Embedding_Item(item_input))\n",
    "    \n",
    "    # Concatenation of embedding layers\n",
    "    vector = Concatenate(axis=-1)([user_latent, item_latent])\n",
    "    \n",
    "    # MLP layers\n",
    "    for idx in range(num_layer):\n",
    "        layer = Dense(layers[idx], kernel_regularizer = l2(regs[idx+1]), activation='relu', name = 'layer%d' %idx)\n",
    "        vector = layer(vector)\n",
    "        \n",
    "    # Final prediction layer\n",
    "    prediction = Dense(1, activation=final_layer, kernel_initializer='lecun_uniform', name = 'prediction')(vector)\n",
    "    model = Model(inputs=[user_input, item_input], outputs=prediction)\n",
    "    return model"
   ]
  },
  {
   "cell_type": "code",
   "execution_count": null,
   "metadata": {
    "colab": {
     "base_uri": "https://localhost:8080/"
    },
    "id": "R5Ib_D3Z7mD_",
    "outputId": "35df3cd9-d5bb-41fc-986f-8bb4a57f451a"
   },
   "outputs": [
    {
     "name": "stdout",
     "output_type": "stream",
     "text": [
      "regs : 0\n",
      "regs : 0\n",
      "regs : 0\n",
      "regs : 0\n",
      "regs : 0\n",
      "regs : 0\n",
      "compiled <keras.engine.functional.Functional object at 0x7f564b0ef690> with cross entropy loss\n",
      "Model: \"model_4\"\n",
      "__________________________________________________________________________________________________\n",
      " Layer (type)                   Output Shape         Param #     Connected to                     \n",
      "==================================================================================================\n",
      " user_input (InputLayer)        [(None, 1)]          0           []                               \n",
      "                                                                                                  \n",
      " item_input (InputLayer)        [(None, 1)]          0           []                               \n",
      "                                                                                                  \n",
      " user_embedding (Embedding)     (None, 1, 8)         48320       ['user_input[0][0]']             \n",
      "                                                                                                  \n",
      " item_embedding (Embedding)     (None, 1, 8)         29648       ['item_input[0][0]']             \n",
      "                                                                                                  \n",
      " flatten_12 (Flatten)           (None, 8)            0           ['user_embedding[0][0]']         \n",
      "                                                                                                  \n",
      " flatten_13 (Flatten)           (None, 8)            0           ['item_embedding[0][0]']         \n",
      "                                                                                                  \n",
      " concatenate_4 (Concatenate)    (None, 16)           0           ['flatten_12[0][0]',             \n",
      "                                                                  'flatten_13[0][0]']             \n",
      "                                                                                                  \n",
      " layer0 (Dense)                 (None, 32)           544         ['concatenate_4[0][0]']          \n",
      "                                                                                                  \n",
      " layer1 (Dense)                 (None, 16)           528         ['layer0[0][0]']                 \n",
      "                                                                                                  \n",
      " layer2 (Dense)                 (None, 8)            136         ['layer1[0][0]']                 \n",
      "                                                                                                  \n",
      " prediction (Dense)             (None, 1)            9           ['layer2[0][0]']                 \n",
      "                                                                                                  \n",
      "==================================================================================================\n",
      "Total params: 79,185\n",
      "Trainable params: 79,185\n",
      "Non-trainable params: 0\n",
      "__________________________________________________________________________________________________\n",
      "None\n",
      "compiled <keras.engine.functional.Functional object at 0x7f564e83ed50> with MSE loss\n",
      "Model: \"model_5\"\n",
      "__________________________________________________________________________________________________\n",
      " Layer (type)                   Output Shape         Param #     Connected to                     \n",
      "==================================================================================================\n",
      " user_input (InputLayer)        [(None, 1)]          0           []                               \n",
      "                                                                                                  \n",
      " item_input (InputLayer)        [(None, 1)]          0           []                               \n",
      "                                                                                                  \n",
      " user_embedding (Embedding)     (None, 1, 8)         48320       ['user_input[0][0]']             \n",
      "                                                                                                  \n",
      " item_embedding (Embedding)     (None, 1, 8)         29648       ['item_input[0][0]']             \n",
      "                                                                                                  \n",
      " flatten_14 (Flatten)           (None, 8)            0           ['user_embedding[0][0]']         \n",
      "                                                                                                  \n",
      " flatten_15 (Flatten)           (None, 8)            0           ['item_embedding[0][0]']         \n",
      "                                                                                                  \n",
      " concatenate_5 (Concatenate)    (None, 16)           0           ['flatten_14[0][0]',             \n",
      "                                                                  'flatten_15[0][0]']             \n",
      "                                                                                                  \n",
      " layer0 (Dense)                 (None, 32)           544         ['concatenate_5[0][0]']          \n",
      "                                                                                                  \n",
      " layer1 (Dense)                 (None, 16)           528         ['layer0[0][0]']                 \n",
      "                                                                                                  \n",
      " layer2 (Dense)                 (None, 8)            136         ['layer1[0][0]']                 \n",
      "                                                                                                  \n",
      " prediction (Dense)             (None, 1)            9           ['layer2[0][0]']                 \n",
      "                                                                                                  \n",
      "==================================================================================================\n",
      "Total params: 79,185\n",
      "Trainable params: 79,185\n",
      "Non-trainable params: 0\n",
      "__________________________________________________________________________________________________\n",
      "None\n",
      "compiled <keras.engine.functional.Functional object at 0x7f564e866e90> with MSE loss\n",
      "Model: \"model_6\"\n",
      "__________________________________________________________________________________________________\n",
      " Layer (type)                   Output Shape         Param #     Connected to                     \n",
      "==================================================================================================\n",
      " user_input (InputLayer)        [(None, 1)]          0           []                               \n",
      "                                                                                                  \n",
      " item_input (InputLayer)        [(None, 1)]          0           []                               \n",
      "                                                                                                  \n",
      " user_embedding (Embedding)     (None, 1, 8)         48320       ['user_input[0][0]']             \n",
      "                                                                                                  \n",
      " item_embedding (Embedding)     (None, 1, 8)         29648       ['item_input[0][0]']             \n",
      "                                                                                                  \n",
      " flatten_16 (Flatten)           (None, 8)            0           ['user_embedding[0][0]']         \n",
      "                                                                                                  \n",
      " flatten_17 (Flatten)           (None, 8)            0           ['item_embedding[0][0]']         \n",
      "                                                                                                  \n",
      " concatenate_6 (Concatenate)    (None, 16)           0           ['flatten_16[0][0]',             \n",
      "                                                                  'flatten_17[0][0]']             \n",
      "                                                                                                  \n",
      " layer0 (Dense)                 (None, 32)           544         ['concatenate_6[0][0]']          \n",
      "                                                                                                  \n",
      " layer1 (Dense)                 (None, 16)           528         ['layer0[0][0]']                 \n",
      "                                                                                                  \n",
      " layer2 (Dense)                 (None, 8)            136         ['layer1[0][0]']                 \n",
      "                                                                                                  \n",
      " prediction (Dense)             (None, 1)            9           ['layer2[0][0]']                 \n",
      "                                                                                                  \n",
      "==================================================================================================\n",
      "Total params: 79,185\n",
      "Trainable params: 79,185\n",
      "Non-trainable params: 0\n",
      "__________________________________________________________________________________________________\n",
      "None\n"
     ]
    }
   ],
   "source": [
    "num_factors = 8\n",
    "num_negatives = 4 \n",
    "learning_rate = 0.001\n",
    "epochs = 10\n",
    "batch_size = 256\n",
    "verbose = 1\n",
    "write_model=False\n",
    "topK = 10 \n",
    "evaluation_threads = 1 \n",
    "\n",
    "relu_mlp_model = get_MLP_model_2(num_users, num_items, num_factors, regs = [[0,0],0,0,0], layers = [32,16,8], final_layer='relu')\n",
    "mse_mlp_model = get_MLP_model_2(num_users, num_items, num_factors, regs = [[0,0],0,0,0],\\\n",
    "                              layers = [32,16,8], final_layer='sigmoid')\n",
    "relu_mse_mlp_model = get_MLP_model_2(num_users, num_items, num_factors, regs = [[0,0],0,0,0],\\\n",
    "                                   layers = [32,16,8], final_layer='relu')\n",
    "\n",
    "new_models = [relu_mlp_model, mse_mlp_model, relu_mse_mlp_model]\n",
    "new_model_names = ['entropy_relu_mlp', 'mse_sigmoid_mlp', 'mse_relu_mlp']\n",
    "\n",
    "for model, model_name in zip(new_models, new_model_names):\n",
    "    if 'mse' in model_name:\n",
    "        model.compile(optimizer=Adam(lr=learning_rate), loss='mse')\n",
    "        print('compiled {} with MSE loss'.format(model))\n",
    "    else:\n",
    "        model.compile(optimizer=Adam(lr=learning_rate), loss='binary_crossentropy')\n",
    "        print('compiled {} with cross entropy loss'.format(model))\n",
    "    print(model.summary())\n",
    "\n",
    "\n"
   ]
  },
  {
   "cell_type": "code",
   "execution_count": null,
   "metadata": {
    "colab": {
     "base_uri": "https://localhost:8080/"
    },
    "id": "gPHhu1_O-4R4",
    "outputId": "8b00e9d3-4403-4e91-ecb7-54d94e9608c0"
   },
   "outputs": [
    {
     "name": "stdout",
     "output_type": "stream",
     "text": [
      "Training model: entropy_relu_mlp\n",
      "Epoch 1\t time: 78.630 seconds\n",
      "Epoch 2\t time: 157.893 seconds\n",
      "Epoch 3\t time: 235.996 seconds\n",
      "Epoch 4\t time: 314.436 seconds\n",
      "Epoch 5\t time: 392.265 seconds\n",
      "Epoch 6\t time: 470.170 seconds\n",
      "Epoch 7\t time: 548.310 seconds\n",
      "Epoch 8\t time: 626.624 seconds\n",
      "Epoch 9\t time: 704.515 seconds\n",
      "Epoch 10\t time: 782.303 seconds\n",
      "Training model: mse_sigmoid_mlp\n",
      "Epoch 1\t time: 74.552 seconds\n",
      "Epoch 2\t time: 148.091 seconds\n",
      "Epoch 3\t time: 222.265 seconds\n",
      "Epoch 4\t time: 295.781 seconds\n",
      "Epoch 5\t time: 369.461 seconds\n",
      "Epoch 6\t time: 443.162 seconds\n",
      "Epoch 7\t time: 517.324 seconds\n",
      "Epoch 8\t time: 590.762 seconds\n",
      "Epoch 9\t time: 664.334 seconds\n",
      "Epoch 10\t time: 737.771 seconds\n",
      "Training model: mse_relu_mlp\n",
      "Epoch 1\t time: 74.134 seconds\n",
      "Epoch 2\t time: 148.060 seconds\n",
      "Epoch 3\t time: 221.809 seconds\n",
      "Epoch 4\t time: 295.520 seconds\n",
      "Epoch 5\t time: 369.380 seconds\n",
      "Epoch 6\t time: 442.948 seconds\n",
      "Epoch 7\t time: 516.581 seconds\n",
      "Epoch 8\t time: 590.330 seconds\n",
      "Epoch 9\t time: 663.987 seconds\n",
      "Epoch 10\t time: 737.174 seconds\n",
      "Train complete\n"
     ]
    }
   ],
   "source": [
    "epochs = 10\n",
    "results_new = pd.DataFrame(\n",
    "          {col: np.nan for col in ['time','hr5', 'hr10', 'ndcg5', 'ndcg10', 'mrr5', 'mrr10']},\n",
    "          index=new_model_names)\n",
    "losses_new = pd.DataFrame({col: np.nan for col in new_model_names}, index=range(0,epochs))\n",
    "\n",
    "\n",
    "for model, model_name in zip(new_models, new_model_names):\n",
    "    loss_hist = []\n",
    "    t1 = time()\n",
    "    print(f'Training model: {model_name}')\n",
    "    for epoch in range(1, epochs + 1):\n",
    "        # Generate training instances\n",
    "        user_input, item_input, labels = get_train_instances(train, num_negatives)\n",
    "        \n",
    "        # Training\n",
    "        hist = model.fit([np.array(user_input), np.array(item_input)], #input\n",
    "                         np.array(labels), # labels \n",
    "                         batch_size=batch_size, epochs=1, verbose=0, shuffle=True)\n",
    "\n",
    "        print('Epoch {0}\\t time: {1:.3f} seconds'.format(epoch, time() - t1))\n",
    "\n",
    "        loss_hist.append(hist.history['loss'][0])\n",
    "\n",
    "    \n",
    "    end = time()\n",
    "    results_new.loc[model_name,'time'] = np.round((end - t1)/60,4)\n",
    "    losses_new[model_name] = pd.Series(loss_hist)\n",
    "    #Calculate metrics\n",
    "    (hits5, ndcgs5, mrr5) = evaluate_model(model, testRatings, testNegatives, 5, evaluation_threads) \n",
    "    hr5, ndcg5, mrr5 = np.array(hits5).mean(), np.array(ndcgs5).mean(), np.array(mrr5).mean()\n",
    "\n",
    "    (hits10, ndcgs10, mrr10) = evaluate_model(model, testRatings, testNegatives, 10, evaluation_threads)\n",
    "    hr10, ndcg10, mrr10 = np.array(hits10).mean(), np.array(ndcgs10).mean(), np.array(mrr5).mean()\n",
    "\n",
    "    results_new.loc[model_name, 'hr5'] = hr5\n",
    "    results_new.loc[model_name, 'hr10'] = hr10\n",
    "    results_new.loc[model_name, 'ndcg5'] = ndcg5\n",
    "    results_new.loc[model_name, 'ndcg10'] = ndcg10\n",
    "    results_new.loc[model_name, 'mrr5'] = mrr5\n",
    "    results_new.loc[model_name, 'mrr10'] = mrr10\n",
    "\n",
    "\n",
    "\n",
    "print(\"Train complete\")"
   ]
  },
  {
   "cell_type": "markdown",
   "metadata": {
    "id": "8aAid3EkRqqZ"
   },
   "source": [
    "<br><br><br><br>\n",
    "<br><br><br><br>\n",
    "NMFs Results:"
   ]
  },
  {
   "cell_type": "code",
   "execution_count": null,
   "metadata": {
    "colab": {
     "base_uri": "https://localhost:8080/",
     "height": 161
    },
    "id": "qEwJzzvVEIXF",
    "outputId": "7ea2f591-7161-469e-ca95-93d6f24759d3"
   },
   "outputs": [
    {
     "name": "stdout",
     "output_type": "stream",
     "text": [
      "Metrics after training on 10 epochs\n"
     ]
    },
    {
     "data": {
      "text/html": [
       "\n",
       "  <div id=\"df-79832969-93d3-48ec-992a-90917a68a03f\">\n",
       "    <div class=\"colab-df-container\">\n",
       "      <div>\n",
       "<style scoped>\n",
       "    .dataframe tbody tr th:only-of-type {\n",
       "        vertical-align: middle;\n",
       "    }\n",
       "\n",
       "    .dataframe tbody tr th {\n",
       "        vertical-align: top;\n",
       "    }\n",
       "\n",
       "    .dataframe thead th {\n",
       "        text-align: right;\n",
       "    }\n",
       "</style>\n",
       "<table border=\"1\" class=\"dataframe\">\n",
       "  <thead>\n",
       "    <tr style=\"text-align: right;\">\n",
       "      <th></th>\n",
       "      <th>time</th>\n",
       "      <th>hr5</th>\n",
       "      <th>hr10</th>\n",
       "      <th>ndcg5</th>\n",
       "      <th>ndcg10</th>\n",
       "      <th>mrr5</th>\n",
       "      <th>mrr10</th>\n",
       "    </tr>\n",
       "  </thead>\n",
       "  <tbody>\n",
       "    <tr>\n",
       "      <th>entropy_relu_mlp</th>\n",
       "      <td>13.0384</td>\n",
       "      <td>0.434768</td>\n",
       "      <td>0.623013</td>\n",
       "      <td>0.290292</td>\n",
       "      <td>0.351139</td>\n",
       "      <td>0.242947</td>\n",
       "      <td>0.242947</td>\n",
       "    </tr>\n",
       "    <tr>\n",
       "      <th>mse_sigmoid_mlp</th>\n",
       "      <td>12.2962</td>\n",
       "      <td>0.450828</td>\n",
       "      <td>0.626325</td>\n",
       "      <td>0.305207</td>\n",
       "      <td>0.361868</td>\n",
       "      <td>0.257301</td>\n",
       "      <td>0.257301</td>\n",
       "    </tr>\n",
       "    <tr>\n",
       "      <th>mse_relu_mlp</th>\n",
       "      <td>12.2862</td>\n",
       "      <td>0.450000</td>\n",
       "      <td>0.632947</td>\n",
       "      <td>0.304806</td>\n",
       "      <td>0.363711</td>\n",
       "      <td>0.257202</td>\n",
       "      <td>0.257202</td>\n",
       "    </tr>\n",
       "  </tbody>\n",
       "</table>\n",
       "</div>\n",
       "      <button class=\"colab-df-convert\" onclick=\"convertToInteractive('df-79832969-93d3-48ec-992a-90917a68a03f')\"\n",
       "              title=\"Convert this dataframe to an interactive table.\"\n",
       "              style=\"display:none;\">\n",
       "        \n",
       "  <svg xmlns=\"http://www.w3.org/2000/svg\" height=\"24px\"viewBox=\"0 0 24 24\"\n",
       "       width=\"24px\">\n",
       "    <path d=\"M0 0h24v24H0V0z\" fill=\"none\"/>\n",
       "    <path d=\"M18.56 5.44l.94 2.06.94-2.06 2.06-.94-2.06-.94-.94-2.06-.94 2.06-2.06.94zm-11 1L8.5 8.5l.94-2.06 2.06-.94-2.06-.94L8.5 2.5l-.94 2.06-2.06.94zm10 10l.94 2.06.94-2.06 2.06-.94-2.06-.94-.94-2.06-.94 2.06-2.06.94z\"/><path d=\"M17.41 7.96l-1.37-1.37c-.4-.4-.92-.59-1.43-.59-.52 0-1.04.2-1.43.59L10.3 9.45l-7.72 7.72c-.78.78-.78 2.05 0 2.83L4 21.41c.39.39.9.59 1.41.59.51 0 1.02-.2 1.41-.59l7.78-7.78 2.81-2.81c.8-.78.8-2.07 0-2.86zM5.41 20L4 18.59l7.72-7.72 1.47 1.35L5.41 20z\"/>\n",
       "  </svg>\n",
       "      </button>\n",
       "      \n",
       "  <style>\n",
       "    .colab-df-container {\n",
       "      display:flex;\n",
       "      flex-wrap:wrap;\n",
       "      gap: 12px;\n",
       "    }\n",
       "\n",
       "    .colab-df-convert {\n",
       "      background-color: #E8F0FE;\n",
       "      border: none;\n",
       "      border-radius: 50%;\n",
       "      cursor: pointer;\n",
       "      display: none;\n",
       "      fill: #1967D2;\n",
       "      height: 32px;\n",
       "      padding: 0 0 0 0;\n",
       "      width: 32px;\n",
       "    }\n",
       "\n",
       "    .colab-df-convert:hover {\n",
       "      background-color: #E2EBFA;\n",
       "      box-shadow: 0px 1px 2px rgba(60, 64, 67, 0.3), 0px 1px 3px 1px rgba(60, 64, 67, 0.15);\n",
       "      fill: #174EA6;\n",
       "    }\n",
       "\n",
       "    [theme=dark] .colab-df-convert {\n",
       "      background-color: #3B4455;\n",
       "      fill: #D2E3FC;\n",
       "    }\n",
       "\n",
       "    [theme=dark] .colab-df-convert:hover {\n",
       "      background-color: #434B5C;\n",
       "      box-shadow: 0px 1px 3px 1px rgba(0, 0, 0, 0.15);\n",
       "      filter: drop-shadow(0px 1px 2px rgba(0, 0, 0, 0.3));\n",
       "      fill: #FFFFFF;\n",
       "    }\n",
       "  </style>\n",
       "\n",
       "      <script>\n",
       "        const buttonEl =\n",
       "          document.querySelector('#df-79832969-93d3-48ec-992a-90917a68a03f button.colab-df-convert');\n",
       "        buttonEl.style.display =\n",
       "          google.colab.kernel.accessAllowed ? 'block' : 'none';\n",
       "\n",
       "        async function convertToInteractive(key) {\n",
       "          const element = document.querySelector('#df-79832969-93d3-48ec-992a-90917a68a03f');\n",
       "          const dataTable =\n",
       "            await google.colab.kernel.invokeFunction('convertToInteractive',\n",
       "                                                     [key], {});\n",
       "          if (!dataTable) return;\n",
       "\n",
       "          const docLinkHtml = 'Like what you see? Visit the ' +\n",
       "            '<a target=\"_blank\" href=https://colab.research.google.com/notebooks/data_table.ipynb>data table notebook</a>'\n",
       "            + ' to learn more about interactive tables.';\n",
       "          element.innerHTML = '';\n",
       "          dataTable['output_type'] = 'display_data';\n",
       "          await google.colab.output.renderOutput(dataTable, element);\n",
       "          const docLink = document.createElement('div');\n",
       "          docLink.innerHTML = docLinkHtml;\n",
       "          element.appendChild(docLink);\n",
       "        }\n",
       "      </script>\n",
       "    </div>\n",
       "  </div>\n",
       "  "
      ],
      "text/plain": [
       "                     time       hr5      hr10  ...    ndcg10      mrr5     mrr10\n",
       "entropy_relu_mlp  13.0384  0.434768  0.623013  ...  0.351139  0.242947  0.242947\n",
       "mse_sigmoid_mlp   12.2962  0.450828  0.626325  ...  0.361868  0.257301  0.257301\n",
       "mse_relu_mlp      12.2862  0.450000  0.632947  ...  0.363711  0.257202  0.257202\n",
       "\n",
       "[3 rows x 7 columns]"
      ]
     },
     "execution_count": 63,
     "metadata": {},
     "output_type": "execute_result"
    }
   ],
   "source": [
    "print('Metrics after training on 10 epochs')\n",
    "results_new"
   ]
  },
  {
   "cell_type": "code",
   "execution_count": null,
   "metadata": {
    "id": "aYzIsP58xsy8"
   },
   "outputs": [],
   "source": [
    "#Add MF results from previous section to results_new to compare in below graphs\n",
    "all_MLP = pd.concat([results_new, results.loc[['MLP']]])"
   ]
  },
  {
   "cell_type": "markdown",
   "metadata": {
    "id": "Nv2PbKErRqqZ"
   },
   "source": [
    "<br><br><br>\n",
    "<br><br><br>\n",
    "\n",
    "Train & Validation Loss:"
   ]
  },
  {
   "cell_type": "code",
   "execution_count": null,
   "metadata": {
    "colab": {
     "base_uri": "https://localhost:8080/",
     "height": 295
    },
    "id": "hfp5334JRqqa",
    "outputId": "98e84823-70b0-4c24-c2fc-a1283eec567d"
   },
   "outputs": [
    {
     "data": {
      "image/png": "[encoded data removed]",
      "text/plain": [
       "<Figure size 432x288 with 1 Axes>"
      ]
     },
     "metadata": {
      "needs_background": "light"
     },
     "output_type": "display_data"
    }
   ],
   "source": [
    "# plot\n",
    "fig, axes = plt.subplots()\n",
    "sns.lineplot(data=losses_new)\n",
    "axes.set_title('Test Loss for MLP Models')\n",
    "axes.set_xlabel('Iteration')\n",
    "axes.set_ylabel('Loss')\n",
    "plt.show()"
   ]
  },
  {
   "cell_type": "markdown",
   "metadata": {
    "id": "1oNPaKq0Rqqa"
   },
   "source": [
    "<br><br><br>\n",
    "Training Time:"
   ]
  },
  {
   "cell_type": "code",
   "execution_count": null,
   "metadata": {
    "colab": {
     "base_uri": "https://localhost:8080/",
     "height": 296
    },
    "id": "bie1l8yORqqa",
    "outputId": "3c6f0be8-a19e-4ffe-8890-634a4d6e2cea"
   },
   "outputs": [
    {
     "data": {
      "image/png": "[encoded data removed]",
      "text/plain": [
       "<Figure size 432x288 with 1 Axes>"
      ]
     },
     "metadata": {
      "needs_background": "light"
     },
     "output_type": "display_data"
    }
   ],
   "source": [
    "# plot\n",
    "#MLP model in red refers to model from section above - last layer activation is sigmoid with binary cross entropy loss\n",
    "fig, axes = plt.subplots()\n",
    "sns.barplot(data = all_MLP, x = all_MLP.index, y = 'time')\n",
    "axes.set_title(f'Time for Training over {epochs} Epochs')\n",
    "axes.set_xlabel('Model')\n",
    "axes.set_ylabel('Time (min)')\n",
    "plt.show()"
   ]
  },
  {
   "cell_type": "markdown",
   "metadata": {
    "id": "0vEf5gXVRqqa"
   },
   "source": [
    "<br><br><br>\n",
    "Metric Evaluation:"
   ]
  },
  {
   "cell_type": "code",
   "execution_count": null,
   "metadata": {
    "colab": {
     "base_uri": "https://localhost:8080/",
     "height": 259
    },
    "id": "AEEo31E1Rqqb",
    "outputId": "dd5e0a08-2e2f-4fe7-b498-8d046166f420"
   },
   "outputs": [
    {
     "data": {
      "image/png": "[encoded data removed]",
      "text/plain": [
       "<Figure size 1440x216 with 3 Axes>"
      ]
     },
     "metadata": {
      "needs_background": "light"
     },
     "output_type": "display_data"
    }
   ],
   "source": [
    "# plot\n",
    "fig, axes = plt.subplots(1,3, figsize = (20,3))\n",
    "metrics = ['hr', 'ndcg', 'mrr']\n",
    "\n",
    "for i , m in enumerate(metrics):\n",
    "  all_MLP[[f'{m}5', f'{m}10']].transpose().plot(kind='bar', ax = axes[i], legend = False)\n",
    "  axes[i].set_ylabel('Score')\n",
    "  if m == 'hr':\n",
    "    axes[i].set_title('Hit Rate')\n",
    "  elif m == 'ndcg':  \n",
    "    axes[i].set_title('NDCG')\n",
    "  elif m == 'mrr':\n",
    "    axes[i].set_title('MRR')\n",
    "\n",
    "fig.legend( labels=new_model_names + ['entropy_sigmoid_mlp \\n (from section 2)'],  \n",
    "           loc=\"upper left\",  \n",
    "           title=\"Models\"  \n",
    "           )\n",
    "plt.show()"
   ]
  },
  {
   "cell_type": "markdown",
   "metadata": {
    "id": "sIqxTjkwRqqb"
   },
   "source": [
    "<br><br>\n",
    "**Conclusions:**\n",
    "\n",
    "Loss Function:\n",
    "- The MSE loss function returned slightly better results compared to the binary cross entropy loss. We were suprised at these findings since usually entropy is better forming when 2-class classification. Here the 2-classes are recommend vs. not-recommend. \n",
    "- If we were classifying based on ratings and using 5-classes for classification (1 being low rated/not recommended and 5 being high rated/top recommended) then the results of the MSE models may be different. \n",
    "- Another hypothesis of why MSE outperformed entropy is due to the data we are working with. The sparsity of the data and the way the test data is selected may have an impact. \n",
    "- The MSE models's test loss were siginificantly lower than the entropy loss. This goes to show that the MSE penalizes relatively little compared the entropy when the prediction is wrong and this is due to the loss is calculated. The MSE evaluates based on the range of y - y_predicted, which in this 2-class prediction model is limited. \n",
    "\n",
    "Activation function (In last layer):\n",
    "- Using the MSE loss, the Relu activation function performs slightly better in a few metrics but overall there is no significance. However, using the entropy loss the sigmoid function performs slightly better across all metrics. \n",
    "- Since we are using short network, we don't run into te issue of the vanishing gradient. So for MSE case, there is no advantage to using Relu, which comes to sovle vanishing gradient issue. \n",
    "- The sigmoid function on the last layer seems to be the right choice for a probalistic model but we are not sure how to explain it mathematically.\n",
    "\n",
    "Overall:\n",
    "- These models were trained in Google Colab Pro version. \n",
    "- While we were able to run all models in a single runtime it is important to note that the MSE models were able to train slightly faster on 10 epochs. If wanted to train for 100 epochs or increase the parameters in these models, runtime may become more of an issue and MSE models would be preferred. \n",
    "- The metrics @10 were higher than the metrics @5 besides for MRR metrics. This is expected as the more predictions that are given, the better chances of success. MRR@5 and MRR@10 were the same because MRR models the rank of the top item, while the rest of the metrics measure in topK items. \n",
    "- The best performing model (MSE Relu MLP) was the best performing in all metrics.\n",
    "- Our next steps would be the implement the MSE Relu MLP as part of the NMF model and hope to see even better results. \n",
    "\n"
   ]
  },
  {
   "cell_type": "markdown",
   "metadata": {
    "id": "dh_LUWC9Rqqb"
   },
   "source": [
    "<br><br>\n",
    "<br><br>\n"
   ]
  },
  {
   "cell_type": "markdown",
   "metadata": {
    "id": "sm5cOodURqqc"
   },
   "source": [
    "Good Luck :)"
   ]
  }
 ],
 "metadata": {
  "accelerator": "GPU",
  "colab": {
   "collapsed_sections": [
    "oYa9kpKERqqO"
   ],
   "machine_shape": "hm",
   "name": "Assignment3.ipynb",
   "provenance": []
  },
  "kernelspec": {
   "display_name": "Python 3 (ipykernel)",
   "language": "python",
   "name": "python3"
  },
  "language_info": {
   "codemirror_mode": {
    "name": "ipython",
    "version": 3
   },
   "file_extension": ".py",
   "mimetype": "text/x-python",
   "name": "python",
   "nbconvert_exporter": "python",
   "pygments_lexer": "ipython3",
   "version": "3.9.12"
  }
 },
 "nbformat": 4,
 "nbformat_minor": 1
}
